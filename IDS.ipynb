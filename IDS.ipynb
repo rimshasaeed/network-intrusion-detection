{
 "cells": [
  {
   "cell_type": "markdown",
   "metadata": {},
   "source": [
    "## Paper: <span style=\"font-size:medium; font-weight:normal;\">H. Nkiama, S. Zainudeen, and M. Saidu, “A Subset Feature Elimination Mechanism for Intrusion Detection System,” *International Journal of Advanced Computer Science and Applications*, vol. 7, Apr. 2016, doi: <a href=\"http://dx.doi.org/10.14569/IJACSA.2016.070419\">10.14569/IJACSA.2016.070419.</a></span>"
   ]
  },
  {
   "cell_type": "markdown",
   "metadata": {},
   "source": [
    "### Import required packages"
   ]
  },
  {
   "cell_type": "code",
   "execution_count": 1,
   "metadata": {},
   "outputs": [],
   "source": [
    "import warnings\n",
    "warnings.filterwarnings('ignore')\n",
    "\n",
    "import pandas as pd\n",
    "import seaborn as sns\n",
    "from matplotlib import pyplot as plt\n",
    "from sklearn.feature_selection import RFE\n",
    "from sklearn.metrics import confusion_matrix\n",
    "from sklearn.tree import DecisionTreeClassifier\n",
    "from sklearn.preprocessing import StandardScaler\n",
    "from sklearn.model_selection import cross_val_score\n",
    "from sklearn.feature_selection import SelectPercentile, f_classif, RFECV"
   ]
  },
  {
   "cell_type": "markdown",
   "metadata": {},
   "source": [
    "## Step 1: Import dataset"
   ]
  },
  {
   "cell_type": "code",
   "execution_count": 2,
   "metadata": {},
   "outputs": [],
   "source": [
    "# List of features of NSL-KDD dataset\n",
    "feature_names = [\"duration\", \"protocol_type\", \"service\", \"flag\", \"src_bytes\", \"dst_bytes\", \"land\",\n",
    "                 \"wrong_fragment\", \"urgent\", \"hot\", \"num_failed_logins\", \"logged_in\", \"num_compromised\",\n",
    "                 \"root_shell\", \"su_attempted\", \"num_root\", \"num_file_creations\", \"num_shells\", \"num_access_files\",\n",
    "                 \"num_outbound_cmds\", \"is_host_login\", \"is_guest_login\", \"count\", \"srv_count\", \"serror_rate\",\n",
    "                 \"srv_serror_rate\", \"rerror_rate\", \"srv_rerror_rate\", \"same_srv_rate\", \"diff_srv_rate\",\n",
    "                 \"srv_diff_host_rate\", \"dst_host_count\", \"dst_host_srv_count\", \"dst_host_same_srv_rate\",\n",
    "                 \"dst_host_diff_srv_rate\", \"dst_host_same_src_port_rate\", \"dst_host_srv_diff_host_rate\",\n",
    "                 \"dst_host_serror_rate\", \"dst_host_srv_serror_rate\", \"dst_host_rerror_rate\", \n",
    "                 \"dst_host_srv_rerror_rate\", \"class_label\", \"difficulty_score\"]\n",
    "\n",
    "# Import data as DataFrame\n",
    "df_train = pd.read_csv('data/KDDTrain+.txt', header=None, names=feature_names)\n",
    "df_test = pd.read_csv('data/KDDTest+.txt', header=None, names=feature_names)\n",
    "\n",
    "# Remove difficulty_score column\n",
    "df_train = df_train.drop(\"difficulty_score\", axis=1)\n",
    "df_test = df_test.drop(\"difficulty_score\", axis=1)"
   ]
  },
  {
   "cell_type": "markdown",
   "metadata": {},
   "source": [
    "#### Dataset dimensions"
   ]
  },
  {
   "cell_type": "code",
   "execution_count": 3,
   "metadata": {},
   "outputs": [
    {
     "name": "stdout",
     "output_type": "stream",
     "text": [
      "Training set: (125973, 42)\n",
      "Test set: (22544, 42)\n"
     ]
    }
   ],
   "source": [
    "print('Training set:', df_train.shape)\n",
    "print('Test set:', df_test.shape)"
   ]
  },
  {
   "cell_type": "markdown",
   "metadata": {},
   "source": [
    "#### Display first five entries"
   ]
  },
  {
   "cell_type": "code",
   "execution_count": 4,
   "metadata": {
    "scrolled": true
   },
   "outputs": [
    {
     "data": {
      "text/html": [
       "<div>\n",
       "<style scoped>\n",
       "    .dataframe tbody tr th:only-of-type {\n",
       "        vertical-align: middle;\n",
       "    }\n",
       "\n",
       "    .dataframe tbody tr th {\n",
       "        vertical-align: top;\n",
       "    }\n",
       "\n",
       "    .dataframe thead th {\n",
       "        text-align: right;\n",
       "    }\n",
       "</style>\n",
       "<table border=\"1\" class=\"dataframe\">\n",
       "  <thead>\n",
       "    <tr style=\"text-align: right;\">\n",
       "      <th></th>\n",
       "      <th>duration</th>\n",
       "      <th>protocol_type</th>\n",
       "      <th>service</th>\n",
       "      <th>flag</th>\n",
       "      <th>src_bytes</th>\n",
       "      <th>dst_bytes</th>\n",
       "      <th>land</th>\n",
       "      <th>wrong_fragment</th>\n",
       "      <th>urgent</th>\n",
       "      <th>hot</th>\n",
       "      <th>...</th>\n",
       "      <th>dst_host_srv_count</th>\n",
       "      <th>dst_host_same_srv_rate</th>\n",
       "      <th>dst_host_diff_srv_rate</th>\n",
       "      <th>dst_host_same_src_port_rate</th>\n",
       "      <th>dst_host_srv_diff_host_rate</th>\n",
       "      <th>dst_host_serror_rate</th>\n",
       "      <th>dst_host_srv_serror_rate</th>\n",
       "      <th>dst_host_rerror_rate</th>\n",
       "      <th>dst_host_srv_rerror_rate</th>\n",
       "      <th>class_label</th>\n",
       "    </tr>\n",
       "  </thead>\n",
       "  <tbody>\n",
       "    <tr>\n",
       "      <th>0</th>\n",
       "      <td>0</td>\n",
       "      <td>tcp</td>\n",
       "      <td>ftp_data</td>\n",
       "      <td>SF</td>\n",
       "      <td>491</td>\n",
       "      <td>0</td>\n",
       "      <td>0</td>\n",
       "      <td>0</td>\n",
       "      <td>0</td>\n",
       "      <td>0</td>\n",
       "      <td>...</td>\n",
       "      <td>25</td>\n",
       "      <td>0.17</td>\n",
       "      <td>0.03</td>\n",
       "      <td>0.17</td>\n",
       "      <td>0.00</td>\n",
       "      <td>0.00</td>\n",
       "      <td>0.00</td>\n",
       "      <td>0.05</td>\n",
       "      <td>0.00</td>\n",
       "      <td>normal</td>\n",
       "    </tr>\n",
       "    <tr>\n",
       "      <th>1</th>\n",
       "      <td>0</td>\n",
       "      <td>udp</td>\n",
       "      <td>other</td>\n",
       "      <td>SF</td>\n",
       "      <td>146</td>\n",
       "      <td>0</td>\n",
       "      <td>0</td>\n",
       "      <td>0</td>\n",
       "      <td>0</td>\n",
       "      <td>0</td>\n",
       "      <td>...</td>\n",
       "      <td>1</td>\n",
       "      <td>0.00</td>\n",
       "      <td>0.60</td>\n",
       "      <td>0.88</td>\n",
       "      <td>0.00</td>\n",
       "      <td>0.00</td>\n",
       "      <td>0.00</td>\n",
       "      <td>0.00</td>\n",
       "      <td>0.00</td>\n",
       "      <td>normal</td>\n",
       "    </tr>\n",
       "    <tr>\n",
       "      <th>2</th>\n",
       "      <td>0</td>\n",
       "      <td>tcp</td>\n",
       "      <td>private</td>\n",
       "      <td>S0</td>\n",
       "      <td>0</td>\n",
       "      <td>0</td>\n",
       "      <td>0</td>\n",
       "      <td>0</td>\n",
       "      <td>0</td>\n",
       "      <td>0</td>\n",
       "      <td>...</td>\n",
       "      <td>26</td>\n",
       "      <td>0.10</td>\n",
       "      <td>0.05</td>\n",
       "      <td>0.00</td>\n",
       "      <td>0.00</td>\n",
       "      <td>1.00</td>\n",
       "      <td>1.00</td>\n",
       "      <td>0.00</td>\n",
       "      <td>0.00</td>\n",
       "      <td>neptune</td>\n",
       "    </tr>\n",
       "    <tr>\n",
       "      <th>3</th>\n",
       "      <td>0</td>\n",
       "      <td>tcp</td>\n",
       "      <td>http</td>\n",
       "      <td>SF</td>\n",
       "      <td>232</td>\n",
       "      <td>8153</td>\n",
       "      <td>0</td>\n",
       "      <td>0</td>\n",
       "      <td>0</td>\n",
       "      <td>0</td>\n",
       "      <td>...</td>\n",
       "      <td>255</td>\n",
       "      <td>1.00</td>\n",
       "      <td>0.00</td>\n",
       "      <td>0.03</td>\n",
       "      <td>0.04</td>\n",
       "      <td>0.03</td>\n",
       "      <td>0.01</td>\n",
       "      <td>0.00</td>\n",
       "      <td>0.01</td>\n",
       "      <td>normal</td>\n",
       "    </tr>\n",
       "    <tr>\n",
       "      <th>4</th>\n",
       "      <td>0</td>\n",
       "      <td>tcp</td>\n",
       "      <td>http</td>\n",
       "      <td>SF</td>\n",
       "      <td>199</td>\n",
       "      <td>420</td>\n",
       "      <td>0</td>\n",
       "      <td>0</td>\n",
       "      <td>0</td>\n",
       "      <td>0</td>\n",
       "      <td>...</td>\n",
       "      <td>255</td>\n",
       "      <td>1.00</td>\n",
       "      <td>0.00</td>\n",
       "      <td>0.00</td>\n",
       "      <td>0.00</td>\n",
       "      <td>0.00</td>\n",
       "      <td>0.00</td>\n",
       "      <td>0.00</td>\n",
       "      <td>0.00</td>\n",
       "      <td>normal</td>\n",
       "    </tr>\n",
       "  </tbody>\n",
       "</table>\n",
       "<p>5 rows × 42 columns</p>\n",
       "</div>"
      ],
      "text/plain": [
       "   duration protocol_type   service flag  src_bytes  dst_bytes  land  \\\n",
       "0         0           tcp  ftp_data   SF        491          0     0   \n",
       "1         0           udp     other   SF        146          0     0   \n",
       "2         0           tcp   private   S0          0          0     0   \n",
       "3         0           tcp      http   SF        232       8153     0   \n",
       "4         0           tcp      http   SF        199        420     0   \n",
       "\n",
       "   wrong_fragment  urgent  hot  ...  dst_host_srv_count  \\\n",
       "0               0       0    0  ...                  25   \n",
       "1               0       0    0  ...                   1   \n",
       "2               0       0    0  ...                  26   \n",
       "3               0       0    0  ...                 255   \n",
       "4               0       0    0  ...                 255   \n",
       "\n",
       "   dst_host_same_srv_rate  dst_host_diff_srv_rate  \\\n",
       "0                    0.17                    0.03   \n",
       "1                    0.00                    0.60   \n",
       "2                    0.10                    0.05   \n",
       "3                    1.00                    0.00   \n",
       "4                    1.00                    0.00   \n",
       "\n",
       "   dst_host_same_src_port_rate  dst_host_srv_diff_host_rate  \\\n",
       "0                         0.17                         0.00   \n",
       "1                         0.88                         0.00   \n",
       "2                         0.00                         0.00   \n",
       "3                         0.03                         0.04   \n",
       "4                         0.00                         0.00   \n",
       "\n",
       "   dst_host_serror_rate  dst_host_srv_serror_rate  dst_host_rerror_rate  \\\n",
       "0                  0.00                      0.00                  0.05   \n",
       "1                  0.00                      0.00                  0.00   \n",
       "2                  1.00                      1.00                  0.00   \n",
       "3                  0.03                      0.01                  0.00   \n",
       "4                  0.00                      0.00                  0.00   \n",
       "\n",
       "   dst_host_srv_rerror_rate  class_label  \n",
       "0                      0.00       normal  \n",
       "1                      0.00       normal  \n",
       "2                      0.00      neptune  \n",
       "3                      0.01       normal  \n",
       "4                      0.00       normal  \n",
       "\n",
       "[5 rows x 42 columns]"
      ]
     },
     "execution_count": 4,
     "metadata": {},
     "output_type": "execute_result"
    }
   ],
   "source": [
    "df_train.head()"
   ]
  },
  {
   "cell_type": "markdown",
   "metadata": {},
   "source": [
    "#### Data distribution per class"
   ]
  },
  {
   "cell_type": "code",
   "execution_count": 5,
   "metadata": {},
   "outputs": [
    {
     "data": {
      "image/png": "[encoded data removed]",
      "text/plain": [
       "<Figure size 864x360 with 2 Axes>"
      ]
     },
     "metadata": {
      "needs_background": "light"
     },
     "output_type": "display_data"
    }
   ],
   "source": [
    "# Plot dataset distribution\n",
    "data = [df_train, df_test]\n",
    "title = ['Training set distribution', 'Test set distribution']\n",
    "\n",
    "fig = plt.figure(figsize = (12, 5))\n",
    "for i in range(2):\n",
    "    ax = fig.add_subplot(1,2,i+1)\n",
    "    p = sns.countplot(x=\"class_label\", data=data[i], palette='Paired')\n",
    "    p.set_xticklabels(p.get_xticklabels(), rotation=90)\n",
    "    ax.set_title(title[i])\n",
    "\n",
    "plt.tight_layout()\n",
    "plt.show()"
   ]
  },
  {
   "cell_type": "markdown",
   "metadata": {},
   "source": [
    "## Step 2: Preprocessing"
   ]
  },
  {
   "cell_type": "markdown",
   "metadata": {},
   "source": [
    "#### Identify categorical features"
   ]
  },
  {
   "cell_type": "code",
   "execution_count": 6,
   "metadata": {},
   "outputs": [
    {
     "name": "stdout",
     "output_type": "stream",
     "text": [
      "Training set:\n",
      "Feature 'protocol_type': 3 categories\n",
      "Feature 'service': 70 categories\n",
      "Feature 'flag': 11 categories\n",
      "Feature 'class_label': 23 categories\n",
      "\n",
      "Test set:\n",
      "Feature 'protocol_type': 3 categories\n",
      "Feature 'service': 64 categories\n",
      "Feature 'flag': 11 categories\n",
      "Feature 'class_label': 38 categories\n"
     ]
    }
   ],
   "source": [
    "# Find categorical variables and their corresponding number of categories\n",
    "print('Training set:')\n",
    "for i in df_train.select_dtypes(include=['object']).columns.to_list():\n",
    "    print(\"Feature '{name}': {count} categories\".format(name=i, count=len(df_train[i].unique())))\n",
    "\n",
    "print('\\nTest set:')\n",
    "for i in df_test.select_dtypes(include=['object']).columns.to_list():\n",
    "    print(\"Feature '{name}': {count} categories\".format(name=i, count=len(df_test[i].unique())))"
   ]
  },
  {
   "cell_type": "code",
   "execution_count": 7,
   "metadata": {},
   "outputs": [],
   "source": [
    "# Categorical features \n",
    "# ('class_label' isnt a feature variable, it's a target variable)\n",
    "cat_features = ['protocol_type', 'service', 'flag']"
   ]
  },
  {
   "cell_type": "markdown",
   "metadata": {},
   "source": [
    "#### Apply One-Hot Encoding"
   ]
  },
  {
   "cell_type": "code",
   "execution_count": 8,
   "metadata": {},
   "outputs": [
    {
     "name": "stdout",
     "output_type": "stream",
     "text": [
      "Training set: (125973, 123)\n",
      "Test set: (22544, 117)\n"
     ]
    }
   ],
   "source": [
    "# Get binary-encoded dummy values for categorical features\n",
    "df_train = pd.get_dummies(df_train, columns=cat_features)\n",
    "df_test = pd.get_dummies(df_test, columns=cat_features)\n",
    "\n",
    "# Dataset dimensions\n",
    "print('Training set:', df_train.shape)\n",
    "print('Test set:', df_test.shape)"
   ]
  },
  {
   "cell_type": "markdown",
   "metadata": {},
   "source": [
    "**Note:** This contrast in the number of features in training-set versus the number of features in test-set is due to 06 less categories for the feature variable *'service'* in test-set as determined above. To achieve uniformity in data, these missing categories are to be added in test-set.\n",
    "#### Add missing features in test set"
   ]
  },
  {
   "cell_type": "code",
   "execution_count": 9,
   "metadata": {},
   "outputs": [
    {
     "name": "stdout",
     "output_type": "stream",
     "text": [
      "Training set: (125973, 123)\n",
      "Test set: (22544, 123)\n"
     ]
    }
   ],
   "source": [
    "features_to_add = set(df_train.columns) - set(df_test.columns)\n",
    "for i in features_to_add:\n",
    "    df_test[i] = 0\n",
    "\n",
    "# Dataset dimensions\n",
    "print('Training set:', df_train.shape)\n",
    "print('Test set:', df_test.shape) "
   ]
  },
  {
   "cell_type": "markdown",
   "metadata": {},
   "source": [
    "#### Encode class labels"
   ]
  },
  {
   "cell_type": "code",
   "execution_count": 10,
   "metadata": {},
   "outputs": [
    {
     "data": {
      "text/plain": [
       "array([0, 1, 3, 2, 4], dtype=int64)"
      ]
     },
     "execution_count": 10,
     "metadata": {},
     "output_type": "execute_result"
    }
   ],
   "source": [
    "# Pack class-labels into 4 attack categories and one as normal traffic\n",
    "# Normal:0 - DoS:1 - Probe:2 - R2L:3 - U2R:4\n",
    "classes = {0: ['normal'],\n",
    "           1: ['back', 'land', 'neptune', 'pod', 'smurf', 'teardrop', 'apache2', 'udpstorm', 'processtable', 'worm', 'mailbomb'],\n",
    "           2: ['satan', 'ipsweep', 'nmap', 'portsweep', 'mscan', 'saint'],\n",
    "           3: ['guess_passwd', 'ftp_write', 'imap', 'phf', 'multihop', 'warezmaster', 'warezclient', 'spy', 'xsnoop', 'xlock', \n",
    "               'snmpguess', 'snmpgetattack', 'httptunnel', 'sendmail', 'named'],\n",
    "           4: ['buffer_overflow', 'loadmodule', 'rootkit', 'perl', 'xterm', 'sqlattack', 'ps']}\n",
    "\n",
    "# Perform reverse mapping (i.e., keys->values and values->keys)\n",
    "classes = {new_k: k for k, v in classes.items() for new_k in v}\n",
    "\n",
    "# Replace string labels with encoded integers\n",
    "df_train['class_label'] = df_train['class_label'].map(classes)\n",
    "df_test['class_label'] = df_test['class_label'].map(classes)\n",
    "\n",
    "# Display unique class labels\n",
    "df_train['class_label'].unique()"
   ]
  },
  {
   "cell_type": "markdown",
   "metadata": {},
   "source": [
    "#### Split data into 4 subsets as per attack category"
   ]
  },
  {
   "cell_type": "code",
   "execution_count": 11,
   "metadata": {},
   "outputs": [],
   "source": [
    "# Subsets of training set\n",
    "df_train_DoS = df_train[~df_train['class_label'].isin([2,3,4])]\n",
    "df_train_Probe = df_train[~df_train['class_label'].isin([1,3,4])]\n",
    "df_train_R2L = df_train[~df_train['class_label'].isin([1,2,4])]\n",
    "df_train_U2R = df_train[~df_train['class_label'].isin([1,2,3])]\n",
    "\n",
    "# Subsets of test set\n",
    "df_test_DoS = df_test[~df_test['class_label'].isin([2,3,4])]\n",
    "df_test_Probe = df_test[~df_test['class_label'].isin([1,3,4])]\n",
    "df_test_R2L = df_test[~df_test['class_label'].isin([1,2,4])]\n",
    "df_test_U2R = df_test[~df_test['class_label'].isin([1,2,3])]"
   ]
  },
  {
   "cell_type": "markdown",
   "metadata": {},
   "source": [
    "#### Split data into features and targets"
   ]
  },
  {
   "cell_type": "code",
   "execution_count": 12,
   "metadata": {},
   "outputs": [],
   "source": [
    "# Training set\n",
    "X_train_DoS = df_train_DoS.drop('class_label', axis=1)\n",
    "Y_train_DoS = df_train_DoS['class_label']\n",
    "\n",
    "X_train_Probe = df_train_Probe.drop('class_label', axis=1)\n",
    "Y_train_Probe = df_train_Probe['class_label']\n",
    "\n",
    "X_train_R2L = df_train_R2L.drop('class_label', axis=1)\n",
    "Y_train_R2L = df_train_R2L['class_label']\n",
    "\n",
    "X_train_U2R = df_train_U2R.drop('class_label', axis=1)\n",
    "Y_train_U2R = df_train_U2R['class_label']"
   ]
  },
  {
   "cell_type": "code",
   "execution_count": 13,
   "metadata": {},
   "outputs": [],
   "source": [
    "# Test set\n",
    "X_test_DoS = df_test_DoS.drop('class_label', axis=1)\n",
    "Y_test_DoS = df_test_DoS['class_label']\n",
    "\n",
    "X_test_Probe = df_test_Probe.drop('class_label', axis=1)\n",
    "Y_test_Probe = df_test_Probe['class_label']\n",
    "\n",
    "X_test_R2L = df_test_R2L.drop('class_label', axis=1)\n",
    "Y_test_R2L = df_test_R2L['class_label']\n",
    "\n",
    "X_test_U2R = df_test_U2R.drop('class_label', axis=1)\n",
    "Y_test_U2R = df_test_U2R['class_label']"
   ]
  },
  {
   "cell_type": "code",
   "execution_count": 14,
   "metadata": {},
   "outputs": [],
   "source": [
    "# Store features and target names (for later use)\n",
    "# Features (same for all attacks)\n",
    "features = X_test_DoS.columns\n",
    "\n",
    "# Training\n",
    "target = ['class_label']"
   ]
  },
  {
   "cell_type": "markdown",
   "metadata": {},
   "source": [
    "## Step 3: Feature Scaling"
   ]
  },
  {
   "cell_type": "code",
   "execution_count": 15,
   "metadata": {},
   "outputs": [],
   "source": [
    "# Training set\n",
    "X_train_DoS = StandardScaler().fit(X_train_DoS).transform(X_train_DoS)\n",
    "X_train_Probe = StandardScaler().fit(X_train_Probe).transform(X_train_Probe)\n",
    "X_train_R2L = StandardScaler().fit(X_train_R2L).transform(X_train_R2L)\n",
    "X_train_U2R = StandardScaler().fit(X_train_U2R).transform(X_train_U2R)\n",
    "\n",
    "# Test set\n",
    "X_test_DoS = StandardScaler().fit(X_test_DoS).transform(X_test_DoS)\n",
    "X_test_Probe = StandardScaler().fit(X_test_Probe).transform(X_test_Probe)\n",
    "X_test_R2L = StandardScaler().fit(X_test_R2L).transform(X_test_R2L)\n",
    "X_test_U2R = StandardScaler().fit(X_test_U2R).transform(X_test_U2R)"
   ]
  },
  {
   "cell_type": "markdown",
   "metadata": {},
   "source": [
    "## Step 4: Feature Selection"
   ]
  },
  {
   "cell_type": "markdown",
   "metadata": {},
   "source": [
    "### a. Univariate feature selection with ANOVA F-test"
   ]
  },
  {
   "cell_type": "code",
   "execution_count": 16,
   "metadata": {},
   "outputs": [],
   "source": [
    "# Create selector object that would select features according to a percentile of highest score\n",
    "S = SelectPercentile(f_classif, percentile=10)"
   ]
  },
  {
   "cell_type": "code",
   "execution_count": 17,
   "metadata": {},
   "outputs": [
    {
     "name": "stdout",
     "output_type": "stream",
     "text": [
      "DoS-attack: (113270, 13)\n",
      "Features: logged_in\n",
      "\t  count\n",
      "\t  serror_rate\n",
      "\t  srv_serror_rate\n",
      "\t  same_srv_rate\n",
      "\t  dst_host_count\n",
      "\t  dst_host_srv_count\n",
      "\t  dst_host_same_srv_rate\n",
      "\t  dst_host_serror_rate\n",
      "\t  dst_host_srv_serror_rate\n",
      "\t  service_imap4\n",
      "\t  service_http_8001\n",
      "\t  service_harvest\n"
     ]
    }
   ],
   "source": [
    "# DoS attack training data\n",
    "X_train_DoS_anova = S.fit_transform(X_train_DoS, Y_train_DoS)\n",
    "dos_features_anova = features[S.get_support().nonzero()[0]].to_list()\n",
    "\n",
    "print(\"DoS-attack:\", X_train_DoS_anova.shape)\n",
    "print(\"Features:\", \"\\n\\t  \".join(map(str, dos_features_anova)))"
   ]
  },
  {
   "cell_type": "code",
   "execution_count": 18,
   "metadata": {},
   "outputs": [
    {
     "name": "stdout",
     "output_type": "stream",
     "text": [
      "Probe-attack: (78999, 13)\n",
      "Features: logged_in\n",
      "\t  rerror_rate\n",
      "\t  srv_rerror_rate\n",
      "\t  dst_host_srv_count\n",
      "\t  dst_host_diff_srv_rate\n",
      "\t  dst_host_same_src_port_rate\n",
      "\t  dst_host_srv_diff_host_rate\n",
      "\t  dst_host_rerror_rate\n",
      "\t  dst_host_srv_rerror_rate\n",
      "\t  protocol_type_icmp\n",
      "\t  service_ecr_i\n",
      "\t  service_smtp\n",
      "\t  service_harvest\n"
     ]
    }
   ],
   "source": [
    "# Probe attack training data\n",
    "X_train_Probe_anova = S.fit_transform(X_train_Probe, Y_train_Probe)\n",
    "probe_features_anova = features[S.get_support().nonzero()[0]].to_list()\n",
    "\n",
    "print(\"Probe-attack:\", X_train_Probe_anova.shape)\n",
    "print(\"Features:\", \"\\n\\t  \".join(map(str, probe_features_anova)))"
   ]
  },
  {
   "cell_type": "code",
   "execution_count": 19,
   "metadata": {},
   "outputs": [
    {
     "name": "stdout",
     "output_type": "stream",
     "text": [
      "R2L-attack: (68338, 13)\n",
      "Features: src_bytes\n",
      "\t  dst_bytes\n",
      "\t  hot\n",
      "\t  num_failed_logins\n",
      "\t  is_guest_login\n",
      "\t  dst_host_srv_count\n",
      "\t  dst_host_same_src_port_rate\n",
      "\t  dst_host_srv_diff_host_rate\n",
      "\t  service_ftp_data\n",
      "\t  service_gopher\n",
      "\t  service_imap4\n",
      "\t  service_ldap\n",
      "\t  flag_S3\n"
     ]
    }
   ],
   "source": [
    "# R2L attack training data\n",
    "X_train_R2L_anova = S.fit_transform(X_train_R2L, Y_train_R2L)\n",
    "r2l_features_anova = features[S.get_support().nonzero()[0]].to_list()\n",
    "\n",
    "print(\"R2L-attack:\", X_train_R2L_anova.shape)\n",
    "print(\"Features:\", \"\\n\\t  \".join(map(str, r2l_features_anova)))"
   ]
  },
  {
   "cell_type": "code",
   "execution_count": 20,
   "metadata": {},
   "outputs": [
    {
     "name": "stdout",
     "output_type": "stream",
     "text": [
      "U2R-attack: (67395, 13)\n",
      "Features: urgent\n",
      "\t  hot\n",
      "\t  root_shell\n",
      "\t  num_file_creations\n",
      "\t  num_shells\n",
      "\t  srv_diff_host_rate\n",
      "\t  dst_host_count\n",
      "\t  dst_host_srv_count\n",
      "\t  dst_host_same_src_port_rate\n",
      "\t  dst_host_srv_diff_host_rate\n",
      "\t  service_gopher\n",
      "\t  service_imap4\n",
      "\t  service_uucp\n"
     ]
    }
   ],
   "source": [
    "# U2R attack training data\n",
    "X_train_U2R_anova = S.fit_transform(X_train_U2R, Y_train_U2R)\n",
    "u2r_features_anova = features[S.get_support().nonzero()[0]].to_list()\n",
    "\n",
    "print(\"U2R-attack:\", X_train_U2R_anova.shape)\n",
    "print(\"Features:\", \"\\n\\t  \".join(map(str, u2r_features_anova)))"
   ]
  },
  {
   "cell_type": "markdown",
   "metadata": {},
   "source": [
    "### b. Recursive Feature Elimination (RFE) - ranking anova features"
   ]
  },
  {
   "cell_type": "code",
   "execution_count": 21,
   "metadata": {},
   "outputs": [],
   "source": [
    "# Create RFE object to begin ranking the features\n",
    "rfe = RFE(estimator = DecisionTreeClassifier(), n_features_to_select = 1)"
   ]
  },
  {
   "cell_type": "code",
   "execution_count": 22,
   "metadata": {},
   "outputs": [
    {
     "name": "stdout",
     "output_type": "stream",
     "text": [
      "DoS-attack features ranking:\n",
      "\t\t\t   (1, 'same_srv_rate')\n",
      "\t\t\t   (2, 'count')\n",
      "\t\t\t   (3, 'service_harvest')\n",
      "\t\t\t   (4, 'dst_host_serror_rate')\n",
      "\t\t\t   (5, 'dst_host_same_srv_rate')\n",
      "\t\t\t   (6, 'dst_host_srv_count')\n",
      "\t\t\t   (7, 'dst_host_count')\n",
      "\t\t\t   (8, 'logged_in')\n",
      "\t\t\t   (9, 'dst_host_srv_serror_rate')\n",
      "\t\t\t   (10, 'srv_serror_rate')\n",
      "\t\t\t   (11, 'serror_rate')\n",
      "\t\t\t   (12, 'service_imap4')\n",
      "\t\t\t   (13, 'service_http_8001')\n"
     ]
    }
   ],
   "source": [
    "# Rank DoS attack features\n",
    "rfe.fit(X_train_DoS_anova, Y_train_DoS)\n",
    "print(\"DoS-attack features ranking:\", *sorted(zip(map(lambda x: round(x, 4), rfe.ranking_), dos_features_anova)), sep=\"\\n\\t\\t\\t   \")"
   ]
  },
  {
   "cell_type": "code",
   "execution_count": 23,
   "metadata": {},
   "outputs": [
    {
     "name": "stdout",
     "output_type": "stream",
     "text": [
      "Probe-attack features ranking:\n",
      "\t\t\t   (1, 'dst_host_same_src_port_rate')\n",
      "\t\t\t   (2, 'dst_host_srv_count')\n",
      "\t\t\t   (3, 'dst_host_rerror_rate')\n",
      "\t\t\t   (4, 'service_smtp')\n",
      "\t\t\t   (5, 'logged_in')\n",
      "\t\t\t   (6, 'dst_host_diff_srv_rate')\n",
      "\t\t\t   (7, 'dst_host_srv_diff_host_rate')\n",
      "\t\t\t   (8, 'service_harvest')\n",
      "\t\t\t   (9, 'service_ecr_i')\n",
      "\t\t\t   (10, 'rerror_rate')\n",
      "\t\t\t   (11, 'protocol_type_icmp')\n",
      "\t\t\t   (12, 'dst_host_srv_rerror_rate')\n",
      "\t\t\t   (13, 'srv_rerror_rate')\n"
     ]
    }
   ],
   "source": [
    "# Rank Probe attack features\n",
    "rfe.fit(X_train_Probe_anova, Y_train_Probe)\n",
    "print(\"Probe-attack features ranking:\", *sorted(zip(map(lambda x: round(x, 4), rfe.ranking_), probe_features_anova)), sep=\"\\n\\t\\t\\t   \")"
   ]
  },
  {
   "cell_type": "code",
   "execution_count": 24,
   "metadata": {},
   "outputs": [
    {
     "name": "stdout",
     "output_type": "stream",
     "text": [
      "R2L-attack features ranking:\n",
      "\t\t\t   (1, 'src_bytes')\n",
      "\t\t\t   (2, 'dst_bytes')\n",
      "\t\t\t   (3, 'hot')\n",
      "\t\t\t   (4, 'dst_host_srv_diff_host_rate')\n",
      "\t\t\t   (5, 'service_gopher')\n",
      "\t\t\t   (6, 'dst_host_same_src_port_rate')\n",
      "\t\t\t   (7, 'dst_host_srv_count')\n",
      "\t\t\t   (8, 'num_failed_logins')\n",
      "\t\t\t   (9, 'service_ldap')\n",
      "\t\t\t   (10, 'is_guest_login')\n",
      "\t\t\t   (11, 'flag_S3')\n",
      "\t\t\t   (12, 'service_ftp_data')\n",
      "\t\t\t   (13, 'service_imap4')\n"
     ]
    }
   ],
   "source": [
    "# Rank R2L attack features\n",
    "rfe.fit(X_train_R2L_anova, Y_train_R2L)\n",
    "print(\"R2L-attack features ranking:\", *sorted(zip(map(lambda x: round(x, 4), rfe.ranking_), r2l_features_anova)), sep=\"\\n\\t\\t\\t   \")"
   ]
  },
  {
   "cell_type": "code",
   "execution_count": 25,
   "metadata": {},
   "outputs": [
    {
     "name": "stdout",
     "output_type": "stream",
     "text": [
      "U2R-attack features ranking:\n",
      "\t\t\t   (1, 'hot')\n",
      "\t\t\t   (2, 'dst_host_srv_count')\n",
      "\t\t\t   (3, 'dst_host_count')\n",
      "\t\t\t   (4, 'root_shell')\n",
      "\t\t\t   (5, 'num_shells')\n",
      "\t\t\t   (6, 'dst_host_srv_diff_host_rate')\n",
      "\t\t\t   (7, 'service_gopher')\n",
      "\t\t\t   (8, 'dst_host_same_src_port_rate')\n",
      "\t\t\t   (9, 'num_file_creations')\n",
      "\t\t\t   (10, 'service_uucp')\n",
      "\t\t\t   (11, 'srv_diff_host_rate')\n",
      "\t\t\t   (12, 'service_imap4')\n",
      "\t\t\t   (13, 'urgent')\n"
     ]
    }
   ],
   "source": [
    "# Rank U2R attack features\n",
    "rfe.fit(X_train_U2R_anova, Y_train_U2R)\n",
    "print(\"U2R-attack features ranking:\", *sorted(zip(map(lambda x: round(x, 4), rfe.ranking_), u2r_features_anova)), sep=\"\\n\\t\\t\\t   \")"
   ]
  },
  {
   "cell_type": "markdown",
   "metadata": {},
   "source": [
    "### c. Recursive Feature Elimination (RFE) - get 13 best features out of 122"
   ]
  },
  {
   "cell_type": "code",
   "execution_count": 26,
   "metadata": {},
   "outputs": [],
   "source": [
    "# Create RFE object to begin ranking the features\n",
    "rfe = RFE(estimator = DecisionTreeClassifier(), \n",
    "          n_features_to_select = 13, \n",
    "          step = 1)"
   ]
  },
  {
   "cell_type": "code",
   "execution_count": 27,
   "metadata": {},
   "outputs": [
    {
     "name": "stdout",
     "output_type": "stream",
     "text": [
      "Features: src_bytes\n",
      "\t  dst_bytes\n",
      "\t  wrong_fragment\n",
      "\t  num_compromised\n",
      "\t  same_srv_rate\n",
      "\t  diff_srv_rate\n",
      "\t  dst_host_count\n",
      "\t  dst_host_diff_srv_rate\n",
      "\t  dst_host_serror_rate\n",
      "\t  dst_host_srv_serror_rate\n",
      "\t  service_efs\n",
      "\t  flag_SH\n",
      "\t  service_http_8001\n"
     ]
    }
   ],
   "source": [
    "# Rank DoS attack features\n",
    "rfe.fit(X_train_DoS, Y_train_DoS)\n",
    "X_train_DoS_rfe = rfe.transform(X_train_DoS)\n",
    "\n",
    "# Get rfe best feature names\n",
    "dos_features_idx_rfe = rfe.support_.nonzero()[0]\n",
    "dos_features_rfe = features[dos_features_idx_rfe].to_list()\n",
    "print(\"Features:\", \"\\n\\t  \".join(dos_features_rfe))"
   ]
  },
  {
   "cell_type": "code",
   "execution_count": 28,
   "metadata": {},
   "outputs": [
    {
     "name": "stdout",
     "output_type": "stream",
     "text": [
      "Features: src_bytes\n",
      "\t  dst_bytes\n",
      "\t  rerror_rate\n",
      "\t  dst_host_same_srv_rate\n",
      "\t  dst_host_diff_srv_rate\n",
      "\t  dst_host_same_src_port_rate\n",
      "\t  dst_host_rerror_rate\n",
      "\t  service_ftp\n",
      "\t  service_gopher\n",
      "\t  service_imap4\n",
      "\t  service_smtp\n",
      "\t  service_systat\n",
      "\t  service_uucp\n"
     ]
    }
   ],
   "source": [
    "# Rank Probe attack features\n",
    "rfe.fit(X_train_Probe, Y_train_Probe)\n",
    "X_train_Probe_rfe = rfe.transform(X_train_Probe)\n",
    "\n",
    "# Get rfe best feature names\n",
    "probe_features_idx_rfe = rfe.support_.nonzero()[0]\n",
    "probe_features_rfe = features[probe_features_idx_rfe].to_list()\n",
    "print(\"Features:\", \"\\n\\t  \".join(probe_features_rfe))"
   ]
  },
  {
   "cell_type": "code",
   "execution_count": 29,
   "metadata": {},
   "outputs": [
    {
     "name": "stdout",
     "output_type": "stream",
     "text": [
      "Features: duration\n",
      "\t  src_bytes\n",
      "\t  dst_bytes\n",
      "\t  hot\n",
      "\t  num_failed_logins\n",
      "\t  num_access_files\n",
      "\t  dst_host_srv_count\n",
      "\t  dst_host_same_srv_rate\n",
      "\t  dst_host_same_src_port_rate\n",
      "\t  dst_host_srv_diff_host_rate\n",
      "\t  dst_host_serror_rate\n",
      "\t  service_gopher\n",
      "\t  service_ldap\n"
     ]
    }
   ],
   "source": [
    "# Rank R2L attack features\n",
    "rfe.fit(X_train_R2L, Y_train_R2L)\n",
    "X_train_R2L_rfe = rfe.transform(X_train_R2L)\n",
    "\n",
    "# Get rfe best feature names\n",
    "r2l_features_idx_rfe = rfe.support_.nonzero()[0]\n",
    "r2l_features_rfe = features[r2l_features_idx_rfe].to_list()\n",
    "print(\"Features:\", \"\\n\\t  \".join(r2l_features_rfe))"
   ]
  },
  {
   "cell_type": "code",
   "execution_count": 30,
   "metadata": {},
   "outputs": [
    {
     "name": "stdout",
     "output_type": "stream",
     "text": [
      "Features: duration\n",
      "\t  src_bytes\n",
      "\t  dst_bytes\n",
      "\t  hot\n",
      "\t  root_shell\n",
      "\t  num_file_creations\n",
      "\t  num_shells\n",
      "\t  srv_count\n",
      "\t  dst_host_count\n",
      "\t  dst_host_same_srv_rate\n",
      "\t  dst_host_srv_diff_host_rate\n",
      "\t  service_gopher\n",
      "\t  service_printer\n"
     ]
    }
   ],
   "source": [
    "# Rank U2R attack features\n",
    "rfe.fit(X_train_U2R, Y_train_U2R)\n",
    "X_train_U2R_rfe = rfe.transform(X_train_U2R)\n",
    "\n",
    "# Get rfe best feature names\n",
    "u2r_features_idx_rfe = rfe.support_.nonzero()[0]\n",
    "u2r_features_rfe = features[u2r_features_idx_rfe].to_list()\n",
    "print(\"Features:\", \"\\n\\t  \".join(u2r_features_rfe))"
   ]
  },
  {
   "cell_type": "markdown",
   "metadata": {},
   "source": [
    "## Step 5: Build classifier model\n",
    "#### For all features"
   ]
  },
  {
   "cell_type": "code",
   "execution_count": 31,
   "metadata": {},
   "outputs": [
    {
     "data": {
      "text/plain": [
       "DecisionTreeClassifier(random_state=394)"
      ]
     },
     "execution_count": 31,
     "metadata": {},
     "output_type": "execute_result"
    }
   ],
   "source": [
    "clf_DoS = DecisionTreeClassifier(random_state = 394)\n",
    "clf_DoS.fit(X_train_DoS, Y_train_DoS)\n",
    "\n",
    "clf_Probe = DecisionTreeClassifier(random_state = 394)\n",
    "clf_Probe.fit(X_train_Probe, Y_train_Probe)\n",
    "\n",
    "clf_R2L = DecisionTreeClassifier(random_state = 394)\n",
    "clf_R2L.fit(X_train_R2L, Y_train_R2L)\n",
    "\n",
    "clf_U2R = DecisionTreeClassifier(random_state = 394)\n",
    "clf_U2R.fit(X_train_U2R, Y_train_U2R)"
   ]
  },
  {
   "cell_type": "markdown",
   "metadata": {},
   "source": [
    "#### For reduced features"
   ]
  },
  {
   "cell_type": "code",
   "execution_count": 32,
   "metadata": {},
   "outputs": [
    {
     "data": {
      "text/plain": [
       "DecisionTreeClassifier(random_state=394)"
      ]
     },
     "execution_count": 32,
     "metadata": {},
     "output_type": "execute_result"
    }
   ],
   "source": [
    "clf_DoS_rfe = DecisionTreeClassifier(random_state = 394)\n",
    "clf_DoS_rfe.fit(X_train_DoS_rfe, Y_train_DoS)\n",
    "\n",
    "clf_Probe_rfe = DecisionTreeClassifier(random_state = 394)\n",
    "clf_Probe_rfe.fit(X_train_Probe_rfe, Y_train_Probe)\n",
    "\n",
    "clf_R2L_rfe = DecisionTreeClassifier(random_state = 394)\n",
    "clf_R2L_rfe.fit(X_train_R2L_rfe, Y_train_R2L)\n",
    "\n",
    "clf_U2R_rfe = DecisionTreeClassifier(random_state = 394)\n",
    "clf_U2R_rfe.fit(X_train_U2R_rfe, Y_train_U2R)"
   ]
  },
  {
   "cell_type": "markdown",
   "metadata": {},
   "source": [
    "## Step 6: Prediction and Evaluation"
   ]
  },
  {
   "cell_type": "markdown",
   "metadata": {},
   "source": [
    "### a. DoS Attack"
   ]
  },
  {
   "cell_type": "markdown",
   "metadata": {},
   "source": [
    "#### For all features"
   ]
  },
  {
   "cell_type": "code",
   "execution_count": 33,
   "metadata": {},
   "outputs": [
    {
     "data": {
      "image/png": "[encoded data removed]",
      "text/plain": [
       "<Figure size 432x288 with 1 Axes>"
      ]
     },
     "metadata": {
      "needs_background": "light"
     },
     "output_type": "display_data"
    }
   ],
   "source": [
    "# Evaluate on DoS attack test data\n",
    "Y_pred_DoS = clf_DoS.predict(X_test_DoS)\n",
    "\n",
    "# Plot confusion matrix\n",
    "ax = plt.subplot()\n",
    "sns.heatmap(confusion_matrix(Y_test_DoS, Y_pred_DoS), annot=True, fmt='g', cmap=\"Blues\", cbar=False, ax=ax)\n",
    "ax.set_xlabel('Predicted attacks')\n",
    "ax.set_ylabel('True attacks')\n",
    "ax.set_title('Confusion Matrix')\n",
    "ax.xaxis.set_ticklabels(['Normal', 'DoS Attack'])\n",
    "ax.yaxis.set_ticklabels(['Normal', 'DoS Attack'])\n",
    "plt.show()"
   ]
  },
  {
   "cell_type": "code",
   "execution_count": 34,
   "metadata": {},
   "outputs": [
    {
     "name": "stdout",
     "output_type": "stream",
     "text": [
      "Accuracy: 0.99651 (+/- 0.00357)\n",
      "Precision: 0.99518 (+/- 0.00480)\n",
      "Recall: 0.99678 (+/- 0.00452)\n",
      "F-measure: 0.99598 (+/- 0.00410)\n"
     ]
    }
   ],
   "source": [
    "# Performance metrics\n",
    "accuracy = cross_val_score(clf_DoS, X_test_DoS, Y_test_DoS, cv=10, scoring='accuracy')\n",
    "precision = cross_val_score(clf_DoS, X_test_DoS, Y_test_DoS, cv=10, scoring='precision')\n",
    "recall = cross_val_score(clf_DoS, X_test_DoS, Y_test_DoS, cv=10, scoring='recall')\n",
    "f1_score = cross_val_score(clf_DoS, X_test_DoS, Y_test_DoS, cv=10, scoring='f1')\n",
    "\n",
    "print(\"Accuracy: %0.5f (+/- %0.5f)\" % (accuracy.mean(), accuracy.std() * 2))\n",
    "print(\"Precision: %0.5f (+/- %0.5f)\" % (precision.mean(), precision.std() * 2))\n",
    "print(\"Recall: %0.5f (+/- %0.5f)\" % (recall.mean(), recall.std() * 2))\n",
    "print(\"F-measure: %0.5f (+/- %0.5f)\" % (f1_score.mean(), f1_score.std() * 2))"
   ]
  },
  {
   "cell_type": "code",
   "execution_count": 35,
   "metadata": {},
   "outputs": [
    {
     "data": {
      "image/png": "[encoded data removed]",
      "text/plain": [
       "<Figure size 432x288 with 1 Axes>"
      ]
     },
     "metadata": {
      "needs_background": "light"
     },
     "output_type": "display_data"
    }
   ],
   "source": [
    "# Fit RFECV on DoS attack test data with 10-fold cross-validation\n",
    "rfecv_DoS = RFECV(estimator=clf_DoS, step=1, cv=10, scoring='accuracy')\n",
    "rfecv_DoS.fit(X_test_DoS, Y_test_DoS)\n",
    "\n",
    "# Plot number of features VS. cross-validation scores\n",
    "plt.figure()\n",
    "plt.plot(range(1, len(rfecv_DoS.grid_scores_) + 1), rfecv_DoS.grid_scores_)\n",
    "plt.xlabel(\"Number of features selected\")\n",
    "plt.ylabel(\"Cross validation score (nb of correct classifications)\")\n",
    "plt.title('RFE DoS')\n",
    "plt.show()"
   ]
  },
  {
   "cell_type": "markdown",
   "metadata": {},
   "source": [
    "#### For reduced features"
   ]
  },
  {
   "cell_type": "code",
   "execution_count": 36,
   "metadata": {},
   "outputs": [
    {
     "data": {
      "image/png": "[encoded data removed]",
      "text/plain": [
       "<Figure size 432x288 with 1 Axes>"
      ]
     },
     "metadata": {
      "needs_background": "light"
     },
     "output_type": "display_data"
    }
   ],
   "source": [
    "# DoS attack test data with 13 best features\n",
    "X_test_DoS_rfe = X_test_DoS[:, dos_features_idx_rfe]\n",
    "\n",
    "# Evaluate on DoS attack test data\n",
    "Y_pred_DoS_rfe = clf_DoS_rfe.predict(X_test_DoS_rfe)\n",
    "\n",
    "# Plot confusion matrix\n",
    "ax = plt.subplot()\n",
    "sns.heatmap(confusion_matrix(Y_test_DoS, Y_pred_DoS_rfe), annot=True, fmt='g', cmap=\"Blues\", cbar=False, ax=ax)\n",
    "ax.set_xlabel('Predicted attacks')\n",
    "ax.set_ylabel('True attacks')\n",
    "ax.set_title('Confusion Matrix')\n",
    "ax.xaxis.set_ticklabels(['Normal', 'DoS Attack'])\n",
    "ax.yaxis.set_ticklabels(['Normal', 'DoS Attack'])\n",
    "plt.show()"
   ]
  },
  {
   "cell_type": "code",
   "execution_count": 37,
   "metadata": {},
   "outputs": [
    {
     "name": "stdout",
     "output_type": "stream",
     "text": [
      "Accuracy: 0.99703 (+/- 0.00306)\n",
      "Precision: 0.99612 (+/- 0.00511)\n",
      "Recall: 0.99705 (+/- 0.00429)\n",
      "F-measure: 0.99658 (+/- 0.00351)\n"
     ]
    }
   ],
   "source": [
    "# Performance metrics\n",
    "accuracy = cross_val_score(clf_DoS_rfe, X_test_DoS_rfe, Y_test_DoS, cv=10, scoring='accuracy')\n",
    "precision = cross_val_score(clf_DoS_rfe, X_test_DoS_rfe, Y_test_DoS, cv=10, scoring='precision')\n",
    "recall = cross_val_score(clf_DoS_rfe, X_test_DoS_rfe, Y_test_DoS, cv=10, scoring='recall')\n",
    "f1_score = cross_val_score(clf_DoS_rfe, X_test_DoS_rfe, Y_test_DoS, cv=10, scoring='f1')\n",
    "\n",
    "print(\"Accuracy: %0.5f (+/- %0.5f)\" % (accuracy.mean(), accuracy.std() * 2))\n",
    "print(\"Precision: %0.5f (+/- %0.5f)\" % (precision.mean(), precision.std() * 2))\n",
    "print(\"Recall: %0.5f (+/- %0.5f)\" % (recall.mean(), recall.std() * 2))\n",
    "print(\"F-measure: %0.5f (+/- %0.5f)\" % (f1_score.mean(), f1_score.std() * 2))"
   ]
  },
  {
   "cell_type": "markdown",
   "metadata": {},
   "source": [
    "### b. Probe Attack"
   ]
  },
  {
   "cell_type": "markdown",
   "metadata": {},
   "source": [
    "#### For all features"
   ]
  },
  {
   "cell_type": "code",
   "execution_count": 38,
   "metadata": {},
   "outputs": [
    {
     "data": {
      "image/png": "[encoded data removed]",
      "text/plain": [
       "<Figure size 432x288 with 1 Axes>"
      ]
     },
     "metadata": {
      "needs_background": "light"
     },
     "output_type": "display_data"
    }
   ],
   "source": [
    "# Evaluate on Probe attack test data\n",
    "Y_pred_Probe = clf_Probe.predict(X_test_Probe)\n",
    "\n",
    "# Plot confusion matrix\n",
    "ax = plt.subplot()\n",
    "sns.heatmap(confusion_matrix(Y_test_Probe, Y_pred_Probe), annot=True, fmt='g', cmap=\"Blues\", cbar=False, ax=ax)\n",
    "ax.set_xlabel('Predicted attacks')\n",
    "ax.set_ylabel('True attacks')\n",
    "ax.set_title('Confusion Matrix')\n",
    "ax.xaxis.set_ticklabels(['Normal', 'Probe Attack'])\n",
    "ax.yaxis.set_ticklabels(['Normal', 'Probe Attack'])\n",
    "plt.show()"
   ]
  },
  {
   "cell_type": "code",
   "execution_count": 39,
   "metadata": {},
   "outputs": [
    {
     "name": "stdout",
     "output_type": "stream",
     "text": [
      "Accuracy: 0.99580 (+/- 0.00349)\n",
      "Precision: 0.99322 (+/- 0.00733)\n",
      "Recall: 0.99365 (+/- 0.00450)\n",
      "F-measure: 0.99343 (+/- 0.00544)\n"
     ]
    }
   ],
   "source": [
    "# Performance metrics\n",
    "accuracy = cross_val_score(clf_Probe, X_test_Probe, Y_test_Probe, cv=10, scoring='accuracy')\n",
    "precision = cross_val_score(clf_Probe, X_test_Probe, Y_test_Probe, cv=10, scoring='precision_macro')\n",
    "recall = cross_val_score(clf_Probe, X_test_Probe, Y_test_Probe, cv=10, scoring='recall_macro')\n",
    "f1_score = cross_val_score(clf_Probe, X_test_Probe, Y_test_Probe, cv=10, scoring='f1_macro')\n",
    "\n",
    "print(\"Accuracy: %0.5f (+/- %0.5f)\" % (accuracy.mean(), accuracy.std() * 2))\n",
    "print(\"Precision: %0.5f (+/- %0.5f)\" % (precision.mean(), precision.std() * 2))\n",
    "print(\"Recall: %0.5f (+/- %0.5f)\" % (recall.mean(), recall.std() * 2))\n",
    "print(\"F-measure: %0.5f (+/- %0.5f)\" % (f1_score.mean(), f1_score.std() * 2))"
   ]
  },
  {
   "cell_type": "code",
   "execution_count": 40,
   "metadata": {},
   "outputs": [
    {
     "data": {
      "image/png": "[encoded data removed]",
      "text/plain": [
       "<Figure size 432x288 with 1 Axes>"
      ]
     },
     "metadata": {
      "needs_background": "light"
     },
     "output_type": "display_data"
    }
   ],
   "source": [
    "# Fit RFECV on Probe attack test data with 10-fold cross-validation\n",
    "rfecv_Probe = RFECV(estimator=clf_Probe, step=1, cv=10, scoring='accuracy')\n",
    "rfecv_Probe.fit(X_test_Probe, Y_test_Probe)\n",
    "\n",
    "# Plot number of features VS. cross-validation scores\n",
    "plt.figure()\n",
    "plt.plot(range(1, len(rfecv_Probe.grid_scores_) + 1), rfecv_Probe.grid_scores_)\n",
    "plt.xlabel(\"Number of features selected\")\n",
    "plt.ylabel(\"Cross validation score (nb of correct classifications)\")\n",
    "plt.title('RFE Probe')\n",
    "plt.show()"
   ]
  },
  {
   "cell_type": "markdown",
   "metadata": {},
   "source": [
    "#### For reduced features"
   ]
  },
  {
   "cell_type": "code",
   "execution_count": 41,
   "metadata": {},
   "outputs": [
    {
     "data": {
      "image/png": "[encoded data removed]",
      "text/plain": [
       "<Figure size 432x288 with 1 Axes>"
      ]
     },
     "metadata": {
      "needs_background": "light"
     },
     "output_type": "display_data"
    }
   ],
   "source": [
    "# Probe attack test data with 13 best features\n",
    "X_test_Probe_rfe = X_test_Probe[:, probe_features_idx_rfe]\n",
    "\n",
    "# Evaluate on Probe attack test data\n",
    "Y_pred_Probe_rfe = clf_Probe_rfe.predict(X_test_Probe_rfe)\n",
    "\n",
    "# Plot confusion matrix\n",
    "ax = plt.subplot()\n",
    "sns.heatmap(confusion_matrix(Y_test_Probe, Y_pred_Probe_rfe), annot=True, fmt='g', cmap=\"Blues\", cbar=False, ax=ax)\n",
    "ax.set_xlabel('Predicted attacks')\n",
    "ax.set_ylabel('True attacks')\n",
    "ax.set_title('Confusion Matrix')\n",
    "ax.xaxis.set_ticklabels(['Normal', 'Probe Attack'])\n",
    "ax.yaxis.set_ticklabels(['Normal', 'Probe Attack'])\n",
    "plt.show()"
   ]
  },
  {
   "cell_type": "code",
   "execution_count": 42,
   "metadata": {},
   "outputs": [
    {
     "name": "stdout",
     "output_type": "stream",
     "text": [
      "Accuracy: 0.99077 (+/- 0.00561)\n",
      "Precision: 0.98683 (+/- 0.01137)\n",
      "Recall: 0.98431 (+/- 0.01056)\n",
      "F-measure: 0.98552 (+/- 0.00875)\n"
     ]
    }
   ],
   "source": [
    "# Performance metrics\n",
    "accuracy = cross_val_score(clf_Probe_rfe, X_test_Probe_rfe, Y_test_Probe, cv=10, scoring='accuracy')\n",
    "precision = cross_val_score(clf_Probe_rfe, X_test_Probe_rfe, Y_test_Probe, cv=10, scoring='precision_macro')\n",
    "recall = cross_val_score(clf_Probe_rfe, X_test_Probe_rfe, Y_test_Probe, cv=10, scoring='recall_macro')\n",
    "f1_score = cross_val_score(clf_Probe_rfe, X_test_Probe_rfe, Y_test_Probe, cv=10, scoring='f1_macro')\n",
    "\n",
    "print(\"Accuracy: %0.5f (+/- %0.5f)\" % (accuracy.mean(), accuracy.std() * 2))\n",
    "print(\"Precision: %0.5f (+/- %0.5f)\" % (precision.mean(), precision.std() * 2))\n",
    "print(\"Recall: %0.5f (+/- %0.5f)\" % (recall.mean(), recall.std() * 2))\n",
    "print(\"F-measure: %0.5f (+/- %0.5f)\" % (f1_score.mean(), f1_score.std() * 2))"
   ]
  },
  {
   "cell_type": "markdown",
   "metadata": {},
   "source": [
    "### c. R2L Attack"
   ]
  },
  {
   "cell_type": "markdown",
   "metadata": {},
   "source": [
    "#### For all features"
   ]
  },
  {
   "cell_type": "code",
   "execution_count": 43,
   "metadata": {},
   "outputs": [
    {
     "data": {
      "image/png": "[encoded data removed]",
      "text/plain": [
       "<Figure size 432x288 with 1 Axes>"
      ]
     },
     "metadata": {
      "needs_background": "light"
     },
     "output_type": "display_data"
    }
   ],
   "source": [
    "# Evaluate on R2L attack test data\n",
    "Y_pred_R2L = clf_R2L.predict(X_test_R2L)\n",
    "\n",
    "# Plot confusion matrix\n",
    "ax = plt.subplot()\n",
    "sns.heatmap(confusion_matrix(Y_test_R2L, Y_pred_R2L), annot=True, fmt='g', cmap=\"Blues\", cbar=False, ax=ax)\n",
    "ax.set_xlabel('Predicted attacks')\n",
    "ax.set_ylabel('True attacks')\n",
    "ax.set_title('Confusion Matrix')\n",
    "ax.xaxis.set_ticklabels(['Normal', 'R2L Attack'])\n",
    "ax.yaxis.set_ticklabels(['Normal', 'R2L Attack'])\n",
    "plt.show()"
   ]
  },
  {
   "cell_type": "code",
   "execution_count": 44,
   "metadata": {},
   "outputs": [
    {
     "name": "stdout",
     "output_type": "stream",
     "text": [
      "Accuracy: 0.97960 (+/- 0.01100)\n",
      "Precision: 0.97212 (+/- 0.01755)\n",
      "Recall: 0.97007 (+/- 0.01485)\n",
      "F-measure: 0.97106 (+/- 0.01548)\n"
     ]
    }
   ],
   "source": [
    "# Performance metrics\n",
    "accuracy = cross_val_score(clf_R2L, X_test_R2L, Y_test_R2L, cv=10, scoring='accuracy')\n",
    "precision = cross_val_score(clf_R2L, X_test_R2L, Y_test_R2L, cv=10, scoring='precision_macro')\n",
    "recall = cross_val_score(clf_R2L, X_test_R2L, Y_test_R2L, cv=10, scoring='recall_macro')\n",
    "f1_score = cross_val_score(clf_R2L, X_test_R2L, Y_test_R2L, cv=10, scoring='f1_macro')\n",
    "\n",
    "print(\"Accuracy: %0.5f (+/- %0.5f)\" % (accuracy.mean(), accuracy.std() * 2))\n",
    "print(\"Precision: %0.5f (+/- %0.5f)\" % (precision.mean(), precision.std() * 2))\n",
    "print(\"Recall: %0.5f (+/- %0.5f)\" % (recall.mean(), recall.std() * 2))\n",
    "print(\"F-measure: %0.5f (+/- %0.5f)\" % (f1_score.mean(), f1_score.std() * 2))"
   ]
  },
  {
   "cell_type": "code",
   "execution_count": 45,
   "metadata": {},
   "outputs": [
    {
     "data": {
      "image/png": "[encoded data removed]",
      "text/plain": [
       "<Figure size 432x288 with 1 Axes>"
      ]
     },
     "metadata": {
      "needs_background": "light"
     },
     "output_type": "display_data"
    }
   ],
   "source": [
    "# Fit RFECV on R2L attack test data with 10-fold cross-validation\n",
    "rfecv_R2L = RFECV(estimator=clf_R2L, step=1, cv=10, scoring='accuracy')\n",
    "rfecv_R2L.fit(X_test_R2L, Y_test_R2L)\n",
    "\n",
    "# Plot number of features VS. cross-validation scores\n",
    "plt.figure()\n",
    "plt.plot(range(1, len(rfecv_R2L.grid_scores_) + 1), rfecv_R2L.grid_scores_)\n",
    "plt.xlabel(\"Number of features selected\")\n",
    "plt.ylabel(\"Cross validation score (nb of correct classifications)\")\n",
    "plt.title('RFE R2L')\n",
    "plt.show()"
   ]
  },
  {
   "cell_type": "markdown",
   "metadata": {},
   "source": [
    "#### For reduced features"
   ]
  },
  {
   "cell_type": "code",
   "execution_count": 46,
   "metadata": {},
   "outputs": [
    {
     "data": {
      "image/png": "[encoded data removed]",
      "text/plain": [
       "<Figure size 432x288 with 1 Axes>"
      ]
     },
     "metadata": {
      "needs_background": "light"
     },
     "output_type": "display_data"
    }
   ],
   "source": [
    "# R2L attack test data with 13 best features\n",
    "X_test_R2L_rfe = X_test_R2L[:, r2l_features_idx_rfe]\n",
    "\n",
    "# Evaluate on R2L attack test data\n",
    "Y_pred_R2L_rfe = clf_R2L_rfe.predict(X_test_R2L_rfe)\n",
    "\n",
    "# Plot confusion matrix\n",
    "ax = plt.subplot()\n",
    "sns.heatmap(confusion_matrix(Y_test_R2L, Y_pred_R2L_rfe), annot=True, fmt='g', cmap=\"Blues\", cbar=False, ax=ax)\n",
    "ax.set_xlabel('Predicted attacks')\n",
    "ax.set_ylabel('True attacks')\n",
    "ax.set_title('Confusion Matrix')\n",
    "ax.xaxis.set_ticklabels(['Normal', 'R2L Attack'])\n",
    "ax.yaxis.set_ticklabels(['Normal', 'R2L Attack'])\n",
    "plt.show()"
   ]
  },
  {
   "cell_type": "code",
   "execution_count": 47,
   "metadata": {},
   "outputs": [
    {
     "name": "stdout",
     "output_type": "stream",
     "text": [
      "Accuracy: 0.97698 (+/- 0.00825)\n",
      "Precision: 0.97063 (+/- 0.01245)\n",
      "Recall: 0.96387 (+/- 0.01311)\n",
      "F-measure: 0.96717 (+/- 0.01178)\n"
     ]
    }
   ],
   "source": [
    "# Performance metrics\n",
    "accuracy = cross_val_score(clf_R2L_rfe, X_test_R2L_rfe, Y_test_R2L, cv=10, scoring='accuracy')\n",
    "precision = cross_val_score(clf_R2L_rfe, X_test_R2L_rfe, Y_test_R2L, cv=10, scoring='precision_macro')\n",
    "recall = cross_val_score(clf_R2L_rfe, X_test_R2L_rfe, Y_test_R2L, cv=10, scoring='recall_macro')\n",
    "f1_score = cross_val_score(clf_R2L_rfe, X_test_R2L_rfe, Y_test_R2L, cv=10, scoring='f1_macro')\n",
    "\n",
    "print(\"Accuracy: %0.5f (+/- %0.5f)\" % (accuracy.mean(), accuracy.std() * 2))\n",
    "print(\"Precision: %0.5f (+/- %0.5f)\" % (precision.mean(), precision.std() * 2))\n",
    "print(\"Recall: %0.5f (+/- %0.5f)\" % (recall.mean(), recall.std() * 2))\n",
    "print(\"F-measure: %0.5f (+/- %0.5f)\" % (f1_score.mean(), f1_score.std() * 2))"
   ]
  },
  {
   "cell_type": "markdown",
   "metadata": {},
   "source": [
    "### d. U2R Attack"
   ]
  },
  {
   "cell_type": "markdown",
   "metadata": {},
   "source": [
    "#### For all features"
   ]
  },
  {
   "cell_type": "code",
   "execution_count": 48,
   "metadata": {},
   "outputs": [
    {
     "data": {
      "image/png": "[encoded data removed]",
      "text/plain": [
       "<Figure size 432x288 with 1 Axes>"
      ]
     },
     "metadata": {
      "needs_background": "light"
     },
     "output_type": "display_data"
    }
   ],
   "source": [
    "# Evaluate on U2R attack test data\n",
    "Y_pred_U2R = clf_U2R.predict(X_test_U2R)\n",
    "\n",
    "# Plot confusion matrix\n",
    "ax = plt.subplot()\n",
    "sns.heatmap(confusion_matrix(Y_test_U2R, Y_pred_U2R), annot=True, fmt='g', cmap=\"Blues\", cbar=False, ax=ax)\n",
    "ax.set_xlabel('Predicted attacks')\n",
    "ax.set_ylabel('True attacks')\n",
    "ax.set_title('Confusion Matrix')\n",
    "ax.xaxis.set_ticklabels(['Normal', 'U2R Attack'])\n",
    "ax.yaxis.set_ticklabels(['Normal', 'U2R Attack'])\n",
    "plt.show()"
   ]
  },
  {
   "cell_type": "code",
   "execution_count": 49,
   "metadata": {},
   "outputs": [
    {
     "name": "stdout",
     "output_type": "stream",
     "text": [
      "Accuracy: 0.99642 (+/- 0.00333)\n",
      "Precision: 0.86415 (+/- 0.13642)\n",
      "Recall: 0.90244 (+/- 0.09692)\n",
      "F-measure: 0.87890 (+/- 0.09697)\n"
     ]
    }
   ],
   "source": [
    "# Performance metrics\n",
    "accuracy = cross_val_score(clf_U2R, X_test_U2R, Y_test_U2R, cv=10, scoring='accuracy')\n",
    "precision = cross_val_score(clf_U2R, X_test_U2R, Y_test_U2R, cv=10, scoring='precision_macro')\n",
    "recall = cross_val_score(clf_U2R, X_test_U2R, Y_test_U2R, cv=10, scoring='recall_macro')\n",
    "f1_score = cross_val_score(clf_U2R, X_test_U2R, Y_test_U2R, cv=10, scoring='f1_macro')\n",
    "\n",
    "print(\"Accuracy: %0.5f (+/- %0.5f)\" % (accuracy.mean(), accuracy.std() * 2))\n",
    "print(\"Precision: %0.5f (+/- %0.5f)\" % (precision.mean(), precision.std() * 2))\n",
    "print(\"Recall: %0.5f (+/- %0.5f)\" % (recall.mean(), recall.std() * 2))\n",
    "print(\"F-measure: %0.5f (+/- %0.5f)\" % (f1_score.mean(), f1_score.std() * 2))"
   ]
  },
  {
   "cell_type": "code",
   "execution_count": 50,
   "metadata": {},
   "outputs": [
    {
     "data": {
      "image/png": "[encoded data removed]",
      "text/plain": [
       "<Figure size 432x288 with 1 Axes>"
      ]
     },
     "metadata": {
      "needs_background": "light"
     },
     "output_type": "display_data"
    }
   ],
   "source": [
    "# Fit RFECV on U2R attack test data with 10-fold cross-validation\n",
    "rfecv_U2R = RFECV(estimator=clf_U2R, step=1, cv=10, scoring='accuracy')\n",
    "rfecv_U2R.fit(X_test_U2R, Y_test_U2R)\n",
    "\n",
    "# Plot number of features VS. cross-validation scores\n",
    "plt.figure()\n",
    "plt.plot(range(1, len(rfecv_U2R.grid_scores_) + 1), rfecv_U2R.grid_scores_)\n",
    "plt.xlabel(\"Number of features selected\")\n",
    "plt.ylabel(\"Cross validation score (nb of correct classifications)\")\n",
    "plt.title('RFE U2R')\n",
    "plt.show()"
   ]
  },
  {
   "cell_type": "markdown",
   "metadata": {},
   "source": [
    "#### For reduced features"
   ]
  },
  {
   "cell_type": "code",
   "execution_count": 51,
   "metadata": {},
   "outputs": [
    {
     "data": {
      "image/png": "[encoded data removed]",
      "text/plain": [
       "<Figure size 432x288 with 1 Axes>"
      ]
     },
     "metadata": {
      "needs_background": "light"
     },
     "output_type": "display_data"
    }
   ],
   "source": [
    "# U2R attack test data with 13 best features\n",
    "X_test_U2R_rfe = X_test_U2R[:, u2r_features_idx_rfe]\n",
    "\n",
    "# Evaluate on U2R attack test data\n",
    "Y_pred_U2R_rfe = clf_U2R_rfe.predict(X_test_U2R_rfe)\n",
    "\n",
    "# Plot confusion matrix\n",
    "ax = plt.subplot()\n",
    "sns.heatmap(confusion_matrix(Y_test_U2R, Y_pred_U2R_rfe), annot=True, fmt='g', cmap=\"Blues\", cbar=False, ax=ax)\n",
    "ax.set_xlabel('Predicted attacks')\n",
    "ax.set_ylabel('True attacks')\n",
    "ax.set_title('Confusion Matrix')\n",
    "ax.xaxis.set_ticklabels(['Normal', 'U2R Attack'])\n",
    "ax.yaxis.set_ticklabels(['Normal', 'U2R Attack'])\n",
    "plt.show()"
   ]
  },
  {
   "cell_type": "code",
   "execution_count": 52,
   "metadata": {},
   "outputs": [
    {
     "name": "stdout",
     "output_type": "stream",
     "text": [
      "Accuracy: 0.99591 (+/- 0.00317)\n",
      "Precision: 0.85670 (+/- 0.16618)\n",
      "Recall: 0.87382 (+/- 0.12877)\n",
      "F-measure: 0.85790 (+/- 0.09946)\n"
     ]
    }
   ],
   "source": [
    "# Performance metrics\n",
    "accuracy = cross_val_score(clf_U2R_rfe, X_test_U2R_rfe, Y_test_U2R, cv=10, scoring='accuracy')\n",
    "precision = cross_val_score(clf_U2R_rfe, X_test_U2R_rfe, Y_test_U2R, cv=10, scoring='precision_macro')\n",
    "recall = cross_val_score(clf_U2R_rfe, X_test_U2R_rfe, Y_test_U2R, cv=10, scoring='recall_macro')\n",
    "f1_score = cross_val_score(clf_U2R_rfe, X_test_U2R_rfe, Y_test_U2R, cv=10, scoring='f1_macro')\n",
    "\n",
    "print(\"Accuracy: %0.5f (+/- %0.5f)\" % (accuracy.mean(), accuracy.std() * 2))\n",
    "print(\"Precision: %0.5f (+/- %0.5f)\" % (precision.mean(), precision.std() * 2))\n",
    "print(\"Recall: %0.5f (+/- %0.5f)\" % (recall.mean(), recall.std() * 2))\n",
    "print(\"F-measure: %0.5f (+/- %0.5f)\" % (f1_score.mean(), f1_score.std() * 2))"
   ]
  }
 ],
 "metadata": {
  "kernelspec": {
   "display_name": "Python 3",
   "language": "python",
   "name": "python3"
  },
  "language_info": {
   "codemirror_mode": {
    "name": "ipython",
    "version": 3
   },
   "file_extension": ".py",
   "mimetype": "text/x-python",
   "name": "python",
   "nbconvert_exporter": "python",
   "pygments_lexer": "ipython3",
   "version": "3.8.5"
  }
 },
 "nbformat": 4,
 "nbformat_minor": 4
}
